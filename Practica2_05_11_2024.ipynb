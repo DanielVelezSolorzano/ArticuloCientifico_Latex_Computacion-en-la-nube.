{
  "nbformat": 4,
  "nbformat_minor": 0,
  "metadata": {
    "colab": {
      "provenance": [],
      "authorship_tag": "ABX9TyMO5rZ2SdUJwmsqalr15Zp/",
      "include_colab_link": true
    },
    "kernelspec": {
      "name": "python3",
      "display_name": "Python 3"
    },
    "language_info": {
      "name": "python"
    }
  },
  "cells": [
    {
      "cell_type": "markdown",
      "metadata": {
        "id": "view-in-github",
        "colab_type": "text"
      },
      "source": [
        "<a href=\"https://colab.research.google.com/github/DanielVelezSolorzano/ArticuloCientifico_Latex_Computacion-en-la-nube./blob/main/Practica2_05_11_2024.ipynb\" target=\"_parent\"><img src=\"https://colab.research.google.com/assets/colab-badge.svg\" alt=\"Open In Colab\"/></a>"
      ]
    },
    {
      "cell_type": "code",
      "execution_count": 3,
      "metadata": {
        "colab": {
          "base_uri": "https://localhost:8080/"
        },
        "id": "k7Rl2OIulQHq",
        "outputId": "9c9d717d-6be0-4aef-9468-acbca8d3ec50"
      },
      "outputs": [
        {
          "output_type": "stream",
          "name": "stdout",
          "text": [
            "(3, 4)\n"
          ]
        }
      ],
      "source": [
        "#\n",
        "#matrixA=np.ramdon\n",
        "import numpy as np\n",
        "matrixA=np.array([[11,12,13,14],[21,22,23,24],[31,32,33,34]])\n",
        "print(matrixA.shape)\n"
      ]
    },
    {
      "cell_type": "code",
      "source": [
        "matrixA"
      ],
      "metadata": {
        "colab": {
          "base_uri": "https://localhost:8080/"
        },
        "id": "O0JE5Dy_nedA",
        "outputId": "ff8f40a1-cb70-4fb1-cfc4-027bb7027a6e"
      },
      "execution_count": 4,
      "outputs": [
        {
          "output_type": "execute_result",
          "data": {
            "text/plain": [
              "array([[11, 12, 13, 14],\n",
              "       [21, 22, 23, 24],\n",
              "       [31, 32, 33, 34]])"
            ]
          },
          "metadata": {},
          "execution_count": 4
        }
      ]
    },
    {
      "cell_type": "code",
      "source": [
        "print(matrixA[1:,1:3])"
      ],
      "metadata": {
        "colab": {
          "base_uri": "https://localhost:8080/"
        },
        "id": "d7mshLU2nhTs",
        "outputId": "5315321f-8497-4e7f-dc2c-9677d36ec6ef"
      },
      "execution_count": 5,
      "outputs": [
        {
          "output_type": "stream",
          "name": "stdout",
          "text": [
            "[[22 23]\n",
            " [32 33]]\n"
          ]
        }
      ]
    },
    {
      "cell_type": "code",
      "source": [
        "# Crea una matriz 4x3 con números aleatorios entre 0 y 9\n",
        "matriz = np.random.randint(0, 10, size=(4, 3))\n",
        "\n",
        "# Imprime la matriz\n",
        "print(matriz)"
      ],
      "metadata": {
        "colab": {
          "base_uri": "https://localhost:8080/"
        },
        "id": "d9M21plunyZ8",
        "outputId": "5b577982-2ab3-464d-9706-8968a9103394"
      },
      "execution_count": 8,
      "outputs": [
        {
          "output_type": "stream",
          "name": "stdout",
          "text": [
            "[[3 7 1]\n",
            " [5 8 9]\n",
            " [7 4 3]\n",
            " [7 0 8]]\n"
          ]
        }
      ]
    },
    {
      "cell_type": "code",
      "source": [
        "print(matriz.shape)"
      ],
      "metadata": {
        "colab": {
          "base_uri": "https://localhost:8080/"
        },
        "id": "OQcmCdH_odqs",
        "outputId": "538d0818-7585-4c7b-ac2b-debc3a1b7e2f"
      },
      "execution_count": 9,
      "outputs": [
        {
          "output_type": "stream",
          "name": "stdout",
          "text": [
            "(4, 3)\n"
          ]
        }
      ]
    },
    {
      "cell_type": "code",
      "source": [
        "print(matriz)\n",
        "col_indices=np.array([0,1,2])\n",
        "row_indices=np.array([0,1,2])\n",
        "\n",
        "for row, col in zip(row_indices,col_indices):\n",
        "    print(matriz[row,col])\n",
        "#print(row,\"_\",col)\n",
        "#print(matriz[row_indices,col_indices])\n",
        "#print(row_indices)\n",
        "#print(col_indices)"
      ],
      "metadata": {
        "colab": {
          "base_uri": "https://localhost:8080/"
        },
        "id": "iyDLh0pSopFL",
        "outputId": "85d923bf-93ef-40d7-9bed-2498ae45a914"
      },
      "execution_count": 14,
      "outputs": [
        {
          "output_type": "stream",
          "name": "stdout",
          "text": [
            "[[3 7 1]\n",
            " [5 8 9]\n",
            " [7 4 3]\n",
            " [7 0 8]]\n",
            "3\n",
            "8\n",
            "3\n"
          ]
        }
      ]
    },
    {
      "cell_type": "code",
      "source": [
        "mask=matriz>7\n",
        "print(mask)"
      ],
      "metadata": {
        "colab": {
          "base_uri": "https://localhost:8080/"
        },
        "id": "c0eyeLgfp_Df",
        "outputId": "c000006a-b9bc-4ecc-dbfe-58b851304c71"
      },
      "execution_count": 22,
      "outputs": [
        {
          "output_type": "stream",
          "name": "stdout",
          "text": [
            "[[False False False]\n",
            " [False  True  True]\n",
            " [False False False]\n",
            " [False False  True]]\n"
          ]
        }
      ]
    },
    {
      "cell_type": "code",
      "source": [
        "print(matriz[mask])"
      ],
      "metadata": {
        "colab": {
          "base_uri": "https://localhost:8080/"
        },
        "id": "2DcEETX4qLXV",
        "outputId": "f6973859-d094-4e07-c657-f635bdc0210b"
      },
      "execution_count": 23,
      "outputs": [
        {
          "output_type": "stream",
          "name": "stdout",
          "text": [
            "[8 9 8]\n"
          ]
        }
      ]
    },
    {
      "cell_type": "code",
      "source": [
        "print(matriz[matriz>7])"
      ],
      "metadata": {
        "colab": {
          "base_uri": "https://localhost:8080/"
        },
        "id": "JNUp51r4qUKr",
        "outputId": "8e2621a5-5eee-426d-b82c-5077446e457c"
      },
      "execution_count": 24,
      "outputs": [
        {
          "output_type": "stream",
          "name": "stdout",
          "text": [
            "[8 9 8]\n"
          ]
        }
      ]
    },
    {
      "cell_type": "code",
      "source": [
        "print(matriz)"
      ],
      "metadata": {
        "colab": {
          "base_uri": "https://localhost:8080/"
        },
        "id": "Bp88VZ-uqdVr",
        "outputId": "c49014e6-3e0b-4093-8288-76f9419913f2"
      },
      "execution_count": 30,
      "outputs": [
        {
          "output_type": "stream",
          "name": "stdout",
          "text": [
            "[[306 308   9]\n",
            " [306   9 306]\n",
            " [  1 304 302]\n",
            " [  7 308   9]]\n"
          ]
        }
      ]
    },
    {
      "cell_type": "code",
      "source": [
        "# Agrega 100 a los números pares\n",
        "matriz[matriz % 2 == 0] += 100\n",
        "print(matriz)"
      ],
      "metadata": {
        "colab": {
          "base_uri": "https://localhost:8080/"
        },
        "id": "VWj7dRz7qwH9",
        "outputId": "ecbb2dca-77c9-4b14-b7d6-a793d7925e25"
      },
      "execution_count": 31,
      "outputs": [
        {
          "output_type": "stream",
          "name": "stdout",
          "text": [
            "[[406 408   9]\n",
            " [406   9 406]\n",
            " [  1 404 402]\n",
            " [  7 408   9]]\n"
          ]
        }
      ]
    },
    {
      "cell_type": "code",
      "source": [
        "# Crea una matriz 4x3 con números aleatorios entre 0 y 9\n",
        "matriz = np.random.randint(0, 10, size=(4, 3))\n",
        "\n",
        "# Agrega 100 a los números pares\n",
        "matriz[matriz % 2 == 0] += 100\n",
        "\n",
        "# Imprime la matriz modificada\n",
        "print(matriz)"
      ],
      "metadata": {
        "colab": {
          "base_uri": "https://localhost:8080/"
        },
        "id": "UaBhzzwSrF9s",
        "outputId": "9b6163f5-242f-4b50-dbf4-bd104df2569f"
      },
      "execution_count": 32,
      "outputs": [
        {
          "output_type": "stream",
          "name": "stdout",
          "text": [
            "[[108 106 100]\n",
            " [  7 104 102]\n",
            " [102 104 100]\n",
            " [102 102   7]]\n"
          ]
        }
      ]
    },
    {
      "cell_type": "code",
      "source": [
        "matriz[matriz % 2 == 0]+=100\n",
        "print(matriz)"
      ],
      "metadata": {
        "colab": {
          "base_uri": "https://localhost:8080/"
        },
        "id": "Nb5NM-b5rIq6",
        "outputId": "50d86de4-4fb2-42d5-d3ef-61241f90278d"
      },
      "execution_count": 33,
      "outputs": [
        {
          "output_type": "stream",
          "name": "stdout",
          "text": [
            "[[208 206 200]\n",
            " [  7 204 202]\n",
            " [202 204 200]\n",
            " [202 202   7]]\n"
          ]
        }
      ]
    },
    {
      "cell_type": "code",
      "source": [
        "print(matriz)"
      ],
      "metadata": {
        "colab": {
          "base_uri": "https://localhost:8080/"
        },
        "id": "SiFLhe4eriIQ",
        "outputId": "a9965899-cc88-45c7-9e81-45923b93cda6"
      },
      "execution_count": 34,
      "outputs": [
        {
          "output_type": "stream",
          "name": "stdout",
          "text": [
            "[[208 206 200]\n",
            " [  7 204 202]\n",
            " [202 204 200]\n",
            " [202 202   7]]\n"
          ]
        }
      ]
    },
    {
      "cell_type": "code",
      "source": [
        "9\n",
        "mask = (matriz >= 3) & (matriz <= 9)\n",
        "matriz[mask] += 100\n",
        "print(matriz)"
      ],
      "metadata": {
        "colab": {
          "base_uri": "https://localhost:8080/"
        },
        "id": "pn1esXSjrqjA",
        "outputId": "de00c318-82ed-468f-f82b-c3a74695ef78"
      },
      "execution_count": 39,
      "outputs": [
        {
          "output_type": "stream",
          "name": "stdout",
          "text": [
            "[[107 103   1]\n",
            " [109 208 100]\n",
            " [103 109   2]\n",
            " [107 106 204]]\n"
          ]
        }
      ]
    },
    {
      "cell_type": "code",
      "source": [
        "matriz[(matriz > 3) & (matriz < 9)] += 100\n",
        "print(matriz)"
      ],
      "metadata": {
        "colab": {
          "base_uri": "https://localhost:8080/"
        },
        "id": "bCp7DzzotCVG",
        "outputId": "0818b16f-a4f2-4aeb-e32e-8fee0e2419b2"
      },
      "execution_count": 41,
      "outputs": [
        {
          "output_type": "stream",
          "name": "stdout",
          "text": [
            "[[107 103   1]\n",
            " [109 208 100]\n",
            " [103 109   2]\n",
            " [107 106 204]]\n"
          ]
        }
      ]
    },
    {
      "cell_type": "code",
      "source": [
        "matriz = np.random.choice([1, 2], size=(3, 3))\n",
        "\n",
        "print(matriz)"
      ],
      "metadata": {
        "colab": {
          "base_uri": "https://localhost:8080/"
        },
        "id": "1zd6i3JDvL0e",
        "outputId": "d95e61dd-c07b-4760-9b29-787aa0ae84f4"
      },
      "execution_count": 42,
      "outputs": [
        {
          "output_type": "stream",
          "name": "stdout",
          "text": [
            "[[1 1 2]\n",
            " [1 1 2]\n",
            " [1 2 2]]\n"
          ]
        }
      ]
    },
    {
      "cell_type": "code",
      "source": [
        "matriz = np.random.choice([1, 2], size=(3, 3))\n",
        "\n",
        "# Crea matriz1 (elementos 1) y matriz2 (elementos 2)\n",
        "matriz1 = np.where(matriz == 1, matriz, 0)  # Donde matriz es 1, se mantiene, sino 0\n",
        "matriz2 = np.where(matriz == 2, matriz, 0)  # Donde matriz es 2, se mantiene, sino 0\n",
        "\n",
        "# Imprime las matrices\n",
        "print(\"Matriz original:\")\n",
        "print(matriz)\n",
        "print(\"\\nMatriz1 (elementos 1):\")\n",
        "print(matriz1)\n",
        "print(\"\\nMatriz2 (elementos 2):\")\n",
        "print(matriz2)"
      ],
      "metadata": {
        "colab": {
          "base_uri": "https://localhost:8080/"
        },
        "id": "A294vzx0xpSw",
        "outputId": "96966326-b547-4b0c-8150-0d616785e4df"
      },
      "execution_count": 45,
      "outputs": [
        {
          "output_type": "stream",
          "name": "stdout",
          "text": [
            "Matriz original:\n",
            "[[2 1 2]\n",
            " [1 1 1]\n",
            " [2 1 1]]\n",
            "\n",
            "Matriz1 (elementos 1):\n",
            "[[0 1 0]\n",
            " [1 1 1]\n",
            " [0 1 1]]\n",
            "\n",
            "Matriz2 (elementos 2):\n",
            "[[2 0 2]\n",
            " [0 0 0]\n",
            " [2 0 0]]\n"
          ]
        }
      ]
    },
    {
      "cell_type": "code",
      "source": [
        "print(matriz1.sum())"
      ],
      "metadata": {
        "colab": {
          "base_uri": "https://localhost:8080/"
        },
        "id": "AId321pNxxam",
        "outputId": "68db6681-9109-4fab-c1bc-6cf039f360e6"
      },
      "execution_count": 48,
      "outputs": [
        {
          "output_type": "stream",
          "name": "stdout",
          "text": [
            "6\n"
          ]
        }
      ]
    },
    {
      "cell_type": "code",
      "source": [
        "print(matriz1.max())"
      ],
      "metadata": {
        "colab": {
          "base_uri": "https://localhost:8080/"
        },
        "id": "DERtPhFOxtIG",
        "outputId": "cb3789ac-19f4-4423-d029-8b1619cbd1eb"
      },
      "execution_count": 46,
      "outputs": [
        {
          "output_type": "stream",
          "name": "stdout",
          "text": [
            "1\n"
          ]
        }
      ]
    },
    {
      "cell_type": "code",
      "source": [
        "start=np.zeros((4,3))\n",
        "print(start)"
      ],
      "metadata": {
        "colab": {
          "base_uri": "https://localhost:8080/"
        },
        "id": "3Dr6X7fPx9Rt",
        "outputId": "e2d3c55b-26eb-4a8b-d489-8152af737422"
      },
      "execution_count": 49,
      "outputs": [
        {
          "output_type": "stream",
          "name": "stdout",
          "text": [
            "[[0. 0. 0.]\n",
            " [0. 0. 0.]\n",
            " [0. 0. 0.]\n",
            " [0. 0. 0.]]\n"
          ]
        }
      ]
    },
    {
      "cell_type": "code",
      "source": [
        "add_rows=np.array([1,2,3])\n",
        "print(add_rows.shape)"
      ],
      "metadata": {
        "colab": {
          "base_uri": "https://localhost:8080/"
        },
        "id": "r827BxEiyNEf",
        "outputId": "5e40ff0b-7cd8-4104-9f5f-427de2ebb6c9"
      },
      "execution_count": 52,
      "outputs": [
        {
          "output_type": "stream",
          "name": "stdout",
          "text": [
            "(3,)\n"
          ]
        }
      ]
    },
    {
      "cell_type": "code",
      "source": [
        "y=start+add_rows\n",
        "print(y)"
      ],
      "metadata": {
        "colab": {
          "base_uri": "https://localhost:8080/"
        },
        "id": "gwybca9Vyl3E",
        "outputId": "5abf2ca7-0dd9-4832-dc09-ff687935b41b"
      },
      "execution_count": 53,
      "outputs": [
        {
          "output_type": "stream",
          "name": "stdout",
          "text": [
            "[[1. 2. 3.]\n",
            " [1. 2. 3.]\n",
            " [1. 2. 3.]\n",
            " [1. 2. 3.]]\n"
          ]
        }
      ]
    },
    {
      "cell_type": "code",
      "source": [
        "print(start)"
      ],
      "metadata": {
        "colab": {
          "base_uri": "https://localhost:8080/"
        },
        "id": "PqF2i_KryofS",
        "outputId": "2c6f6e84-ea39-4d7b-8a8e-222bca0021d5"
      },
      "execution_count": 54,
      "outputs": [
        {
          "output_type": "stream",
          "name": "stdout",
          "text": [
            "[[0. 0. 0.]\n",
            " [0. 0. 0.]\n",
            " [0. 0. 0.]\n",
            " [0. 0. 0.]]\n"
          ]
        }
      ]
    },
    {
      "cell_type": "code",
      "source": [
        "col_rows=np.array([[1,2,3,4]])\n",
        "col_rows=col_rows.T\n",
        "print(col_rows)"
      ],
      "metadata": {
        "colab": {
          "base_uri": "https://localhost:8080/"
        },
        "id": "Gv-Yf2Ysy2iR",
        "outputId": "267d5773-7db2-4478-c62f-538667368552"
      },
      "execution_count": 56,
      "outputs": [
        {
          "output_type": "stream",
          "name": "stdout",
          "text": [
            "[[1]\n",
            " [2]\n",
            " [3]\n",
            " [4]]\n"
          ]
        }
      ]
    },
    {
      "cell_type": "code",
      "source": [
        "print(col_rows.shape)\n",
        "tmp=col_rows.T\n",
        "print(tmp.shape)"
      ],
      "metadata": {
        "colab": {
          "base_uri": "https://localhost:8080/"
        },
        "id": "usuAHQ35zxBh",
        "outputId": "178bb85f-07d0-4879-c3b6-580ca2d96532"
      },
      "execution_count": 58,
      "outputs": [
        {
          "output_type": "stream",
          "name": "stdout",
          "text": [
            "(4, 1)\n",
            "(1, 4)\n"
          ]
        }
      ]
    },
    {
      "cell_type": "code",
      "source": [],
      "metadata": {
        "id": "We3x5E2u0h_F"
      },
      "execution_count": null,
      "outputs": []
    },
    {
      "cell_type": "code",
      "source": [
        "matriz = np.arange(1, 6).reshape(-1, 1)\n",
        "matriz =np.repeat(matriz,1,axis=0)\n",
        "print(matriz)"
      ],
      "metadata": {
        "colab": {
          "base_uri": "https://localhost:8080/"
        },
        "id": "Z1kwgwck0iAk",
        "outputId": "ee42f61a-d314-435f-b217-5d3622c015dc"
      },
      "execution_count": 62,
      "outputs": [
        {
          "output_type": "stream",
          "name": "stdout",
          "text": [
            "[[1]\n",
            " [2]\n",
            " [3]\n",
            " [4]\n",
            " [5]]\n"
          ]
        }
      ]
    },
    {
      "cell_type": "code",
      "source": [
        "print(start)\n",
        "tmp=col_rows.T\n",
        "print(tmp)"
      ],
      "metadata": {
        "colab": {
          "base_uri": "https://localhost:8080/"
        },
        "id": "XTqZ3Jjx1hoE",
        "outputId": "6c2280e0-cec4-4ace-e4c1-afa70c85f5f3"
      },
      "execution_count": 63,
      "outputs": [
        {
          "output_type": "stream",
          "name": "stdout",
          "text": [
            "[[0. 0. 0.]\n",
            " [0. 0. 0.]\n",
            " [0. 0. 0.]\n",
            " [0. 0. 0.]]\n",
            "[[1 2 3 4]]\n"
          ]
        }
      ]
    },
    {
      "cell_type": "code",
      "source": [],
      "metadata": {
        "id": "orhKPLiF1pp0"
      },
      "execution_count": null,
      "outputs": []
    },
    {
      "cell_type": "code",
      "source": [
        "tmp1 = np.array([[1, 1], [2, 2]])\n",
        "tmp2 = np.array([[3, 3], [4, 4]])\n",
        "\n",
        "print(tmp1)\n",
        "print(tmp2)"
      ],
      "metadata": {
        "colab": {
          "base_uri": "https://localhost:8080/"
        },
        "id": "fkSR7Ig91prJ",
        "outputId": "a858302f-af83-483f-9dd7-b7208557a3f5"
      },
      "execution_count": 67,
      "outputs": [
        {
          "output_type": "stream",
          "name": "stdout",
          "text": [
            "[[1 1]\n",
            " [2 2]]\n",
            "[[3 3]\n",
            " [4 4]]\n"
          ]
        }
      ]
    },
    {
      "cell_type": "code",
      "source": [
        "matriz1 = np.random.randint(low=2, high=50, size=(2, 2))\n",
        "matriz2 = np.random.randint(low=2, high=50, size=(2, 2))\n",
        "\n",
        "print(matriz1)\n",
        "print(matriz2)"
      ],
      "metadata": {
        "colab": {
          "base_uri": "https://localhost:8080/"
        },
        "id": "zCtvnxts2Xp_",
        "outputId": "eaa01892-1bf8-4341-c969-083f5e846e3a"
      },
      "execution_count": 69,
      "outputs": [
        {
          "output_type": "stream",
          "name": "stdout",
          "text": [
            "[[ 6 41]\n",
            " [18  7]]\n",
            "[[45 40]\n",
            " [29 17]]\n"
          ]
        }
      ]
    },
    {
      "cell_type": "code",
      "source": [
        "np.vstack((matriz1,matriz2))"
      ],
      "metadata": {
        "colab": {
          "base_uri": "https://localhost:8080/"
        },
        "id": "3qyc0zCn2qpf",
        "outputId": "a85c6af3-6834-4730-d988-141ea3f54d0f"
      },
      "execution_count": 70,
      "outputs": [
        {
          "output_type": "execute_result",
          "data": {
            "text/plain": [
              "array([[ 6, 41],\n",
              "       [18,  7],\n",
              "       [45, 40],\n",
              "       [29, 17]])"
            ]
          },
          "metadata": {},
          "execution_count": 70
        }
      ]
    },
    {
      "cell_type": "code",
      "source": [
        "np.hstack((matriz1,matriz2))"
      ],
      "metadata": {
        "colab": {
          "base_uri": "https://localhost:8080/"
        },
        "id": "-wRM7bfy24cP",
        "outputId": "63b0f936-c10a-4bad-8d18-42e4ff743ca1"
      },
      "execution_count": 71,
      "outputs": [
        {
          "output_type": "execute_result",
          "data": {
            "text/plain": [
              "array([[ 6, 41, 45, 40],\n",
              "       [18,  7, 29, 17]])"
            ]
          },
          "metadata": {},
          "execution_count": 71
        }
      ]
    }
  ]
}